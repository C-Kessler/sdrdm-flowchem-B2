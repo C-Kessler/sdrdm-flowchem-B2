{
 "cells": [
  {
   "cell_type": "code",
   "execution_count": 1,
   "id": "a3986b8e-414a-4191-8f07-1bb77c23080c",
   "metadata": {},
   "outputs": [],
   "source": [
    "from sdRDM import DataModel, Field\n",
    "from typing import *"
   ]
  },
  {
   "cell_type": "code",
   "execution_count": 2,
   "id": "d7de3350-19af-4bb8-9315-ec0083911056",
   "metadata": {},
   "outputs": [],
   "source": [
    "from IPython.display import Image"
   ]
  },
  {
   "cell_type": "markdown",
   "id": "cdfc7573-f7c0-4886-b94b-5b6d435b8d55",
   "metadata": {},
   "source": [
    "## Example Repro software-driven-rdm\n",
    "https://github.com/JR-1991/software-driven-rdm/blob/master/README.md"
   ]
  },
  {
   "cell_type": "code",
   "execution_count": 3,
   "id": "cef2c0bf-9b0e-4aa7-9c64-814e076f5f29",
   "metadata": {},
   "outputs": [],
   "source": [
    "# class Person(DataModel):\n",
    "\n",
    "#     name: str = Field(\n",
    "#         ...,\n",
    "#         description=\"Name of a person\"\n",
    "#     )\n",
    "#     age: int = Field(\n",
    "#         ...,\n",
    "#         description=\"Age of a person\"\n",
    "#     )\n",
    "\n",
    "# class Group(DataModel):\n",
    "\n",
    "#     name: str = Field(\n",
    "#         ...,\n",
    "#         description=\"Name of this group\"\n",
    "#     )\n",
    "\n",
    "#     persons: List[Person] = Field(\n",
    "#         description=\"Persons from this group\",\n",
    "#         default_factory=list\n",
    "#     )"
   ]
  },
  {
   "cell_type": "code",
   "execution_count": 4,
   "id": "f10168a1-4c62-4894-a597-2e9862adb091",
   "metadata": {},
   "outputs": [],
   "source": [
    "# # Apply data model\n",
    "# person1 = Person(name=\"Max\", age=43)\n",
    "# person2 = Person(name=\"Hannah\", age=38)\n",
    "\n",
    "# group = Group(\n",
    "#     name=\"sdRDM Group\",\n",
    "#     persons=[person1, person2]\n",
    "# )\n",
    "\n",
    "# print(group.yaml())"
   ]
  },
  {
   "cell_type": "markdown",
   "id": "a534f581-a778-444d-a67c-f71c82178193",
   "metadata": {},
   "source": [
    "## Example Repro sdrdm-template\n",
    "https://github.com/JR-1991/sdrdm-template"
   ]
  },
  {
   "cell_type": "code",
   "execution_count": 5,
   "id": "1d6277b2-bead-470f-a474-76ee439b504c",
   "metadata": {},
   "outputs": [],
   "source": [
    "# Root, Author, Parameter = DataModel.from_git(\n",
    "#     url=\"https://github.com/JR-1991/sdrdm-template.git\",\n",
    "#     import_modules = [\"Author\", \"Parameter\"]\n",
    "# )\n",
    "\n",
    "# # Visualize the data model\n",
    "# Root.visualize_tree()\n",
    "\n",
    "# # Enter your data\n",
    "# dataset = Root(title=\"Some Title\", description=\"Some Description\")\n",
    "# dataset.add_to_authors(name=\"Jan Range\", affiliation=\"SimTech\")\n",
    "# dataset.add_to_parameters(key=\"Param\", value=10.0)\n",
    "\n",
    "# # Inspect your dataset\n",
    "# print(dataset.yaml())\n",
    "\n",
    "# # Option: Link your dataset to an option --> Dataverse\n",
    "# dataset.to_dataverse()\n",
    "\n",
    "# # Option: Export your dataset to another format\n",
    "# with open(\"my_dataset.json\", \"w\") as f:\n",
    "#     f.write(dataset.json())\n",
    "\n",
    "# # Re-opening your dataset using sdRDM will cause the library\n",
    "# # to re-build the software state in which the dataset was created"
   ]
  },
  {
   "cell_type": "markdown",
   "id": "96b0427d-5e7f-48b2-96ec-90e04a3b41e8",
   "metadata": {},
   "source": [
    "## First proposal related to Flow Chemistry\n",
    "The example and ideas for data to be collected are taken from:<br>\n",
    "Hone C. A., Kappe C. O. Towards the Standardization of Flow Chemistry Protocols for Organic Reactions<br>\n",
    "https://chemistry-europe.onlinelibrary.wiley.com/doi/10.1002/cmtd.202100059<br>\n",
    "<br>\n",
    "![title](example_data/pics/process.png)\n",
    "<br>\n",
    "Scheme 1. Flow chemistry input parameters and responses. Input parameters are shown in blue and output parameters in red. One challenge of continuous processing is the mutual dependency that the input parameters have on each other and that small changes in the reactor setup can significantly impact the responses measured.(BPR=BackPressureRegulator)."
   ]
  },
  {
   "cell_type": "code",
   "execution_count": 6,
   "id": "fbd408ed-5e70-4f56-8916-7cd3e242f91d",
   "metadata": {},
   "outputs": [
    {
     "data": {
      "text/plain": [
       "<sdRDM.base.datamodel.DataModel._extract_modules.<locals>.ImportedModules at 0x7f2e40aa67f0>"
      ]
     },
     "execution_count": 6,
     "metadata": {},
     "output_type": "execute_result"
    }
   ],
   "source": [
    "model = DataModel.from_git(\n",
    "    url=\"https://github.com/C-Kessler/sdrdm-flowchem-B2.git\",  \n",
    ")\n",
    "model"
   ]
  },
  {
   "cell_type": "code",
   "execution_count": 8,
   "id": "03c90207-bc79-4e29-a675-2e5f6dbd43fa",
   "metadata": {},
   "outputs": [
    {
     "name": "stdout",
     "output_type": "stream",
     "text": [
      "FlowChemistryProtocol\n",
      "├── id\n",
      "├── description\n",
      "├── title\n",
      "├── subject\n",
      "├── authors\n",
      "│   └── Author\n",
      "│       ├── id\n",
      "│       ├── name\n",
      "│       └── affiliation\n",
      "├── parameters\n",
      "│   └── Parameter\n",
      "│       ├── id\n",
      "│       ├── key\n",
      "│       └── value\n",
      "└── flowmodules\n",
      "    └── Flowmodule\n",
      "        ├── id\n",
      "        ├── key\n",
      "        └── value\n"
     ]
    }
   ],
   "source": [
    "Root = model.FlowChemistryProtocol\n",
    "Root.visualize_tree()"
   ]
  },
  {
   "cell_type": "code",
   "execution_count": null,
   "id": "49f473f9-56fd-49aa-8e19-431349caf479",
   "metadata": {},
   "outputs": [],
   "source": [
    "dataset = Root(title=\"Flowchem Scheme 1\", description=\"An Example process from Hone C. A., Kappe C. O. Towards the Standardization of Flow Chemistry Protocols for Organic Reactions, scheme1\", subject = 'flowchem')\n",
    "dataset"
   ]
  },
  {
   "cell_type": "code",
   "execution_count": null,
   "id": "3eadd161-ed55-4700-971e-cc9ac54c878e",
   "metadata": {},
   "outputs": [],
   "source": [
    "dataset.add_to_authors(name=\"Hone\", affiliation=\"University of Graz\")\n",
    "print(dataset.yaml)"
   ]
  },
  {
   "cell_type": "code",
   "execution_count": null,
   "id": "e3a2ac46-96f4-4dca-b2ff-27c0097c09a3",
   "metadata": {},
   "outputs": [],
   "source": []
  }
 ],
 "metadata": {
  "kernelspec": {
   "display_name": "Python 3",
   "language": "python",
   "name": "python3"
  },
  "language_info": {
   "codemirror_mode": {
    "name": "ipython",
    "version": 3
   },
   "file_extension": ".py",
   "mimetype": "text/x-python",
   "name": "python",
   "nbconvert_exporter": "python",
   "pygments_lexer": "ipython3",
   "version": "3.8.13"
  }
 },
 "nbformat": 4,
 "nbformat_minor": 5
}

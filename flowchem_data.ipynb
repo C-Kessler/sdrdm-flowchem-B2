{
 "cells": [
  {
   "cell_type": "markdown",
   "id": "acddaf89-9232-4b08-92fc-a2a950b287a4",
   "metadata": {},
   "source": [
    "## sdRDM for flow chemistry in CRC 1333\n",
    "- usage requieres a python 3.8 environment\n",
    "- import the necessary librarys\n",
    "- sdRDM: python -m pip install git+https://github.com/JR-1991/software-driven-rdm.git\n",
    "- - get infos about sdRDM at https://github.com/JR-1991/software-driven-rdm\n",
    "- typing: pip install typing"
   ]
  },
  {
   "cell_type": "code",
   "execution_count": 1,
   "id": "c3d2742f-c02f-48b5-b2ba-5a6fd6334774",
   "metadata": {},
   "outputs": [],
   "source": [
    "from sdRDM import DataModel, Field\n",
    "from typing import *"
   ]
  },
  {
   "cell_type": "code",
   "execution_count": 2,
   "id": "d7de3350-19af-4bb8-9315-ec0083911056",
   "metadata": {},
   "outputs": [],
   "source": [
    "from IPython.display import Image"
   ]
  },
  {
   "cell_type": "markdown",
   "id": "cdfc7573-f7c0-4886-b94b-5b6d435b8d55",
   "metadata": {},
   "source": [
    "## Example Repro software-driven-rdm\n",
    "https://github.com/JR-1991/software-driven-rdm/blob/master/README.md"
   ]
  },
  {
   "cell_type": "code",
   "execution_count": 3,
   "id": "cef2c0bf-9b0e-4aa7-9c64-814e076f5f29",
   "metadata": {},
   "outputs": [],
   "source": [
    "# class Person(DataModel):\n",
    "\n",
    "#     name: str = Field(\n",
    "#         ...,\n",
    "#         description=\"Name of a person\"\n",
    "#     )\n",
    "#     age: int = Field(\n",
    "#         ...,\n",
    "#         description=\"Age of a person\"\n",
    "#     )\n",
    "\n",
    "# class Group(DataModel):\n",
    "\n",
    "#     name: str = Field(\n",
    "#         ...,\n",
    "#         description=\"Name of this group\"\n",
    "#     )\n",
    "\n",
    "#     persons: List[Person] = Field(\n",
    "#         description=\"Persons from this group\",\n",
    "#         default_factory=list\n",
    "#     )"
   ]
  },
  {
   "cell_type": "code",
   "execution_count": 4,
   "id": "f10168a1-4c62-4894-a597-2e9862adb091",
   "metadata": {},
   "outputs": [],
   "source": [
    "# # Apply data model\n",
    "# person1 = Person(name=\"Max\", age=43)\n",
    "# person2 = Person(name=\"Hannah\", age=38)\n",
    "\n",
    "# group = Group(\n",
    "#     name=\"sdRDM Group\",\n",
    "#     persons=[person1, person2]\n",
    "# )\n",
    "\n",
    "# print(group.yaml())"
   ]
  },
  {
   "cell_type": "markdown",
   "id": "a534f581-a778-444d-a67c-f71c82178193",
   "metadata": {},
   "source": [
    "## Example Repro sdrdm-template\n",
    "https://github.com/JR-1991/sdrdm-template"
   ]
  },
  {
   "cell_type": "code",
   "execution_count": 5,
   "id": "1d6277b2-bead-470f-a474-76ee439b504c",
   "metadata": {},
   "outputs": [],
   "source": [
    "# Root, Author, Parameter = DataModel.from_git(\n",
    "#     url=\"https://github.com/JR-1991/sdrdm-template.git\",\n",
    "#     import_modules = [\"Author\", \"Parameter\"]\n",
    "# )\n",
    "\n",
    "# # Visualize the data model\n",
    "# Root.visualize_tree()\n",
    "\n",
    "# # Enter your data\n",
    "# dataset = Root(title=\"Some Title\", description=\"Some Description\")\n",
    "# dataset.add_to_authors(name=\"Jan Range\", affiliation=\"SimTech\")\n",
    "# dataset.add_to_parameters(key=\"Param\", value=10.0)\n",
    "\n",
    "# # Inspect your dataset\n",
    "# print(dataset.yaml())\n",
    "\n",
    "# # Option: Link your dataset to an option --> Dataverse\n",
    "# dataset.to_dataverse()\n",
    "\n",
    "# # Option: Export your dataset to another format\n",
    "# with open(\"my_dataset.json\", \"w\") as f:\n",
    "#     f.write(dataset.json())\n",
    "\n",
    "# # Re-opening your dataset using sdRDM will cause the library\n",
    "# # to re-build the software state in which the dataset was created"
   ]
  },
  {
   "cell_type": "markdown",
   "id": "96b0427d-5e7f-48b2-96ec-90e04a3b41e8",
   "metadata": {},
   "source": [
    "## First proposal related to Flow Chemistry\n",
    "The example and ideas for data to be collected are taken from:<br>\n",
    "Hone C. A., Kappe C. O. Towards the Standardization of Flow Chemistry Protocols for Organic Reactions<br>\n",
    "https://chemistry-europe.onlinelibrary.wiley.com/doi/10.1002/cmtd.202100059<br>\n",
    "<br>\n",
    "![title](example_data/pics/process.png)\n",
    "<br>\n",
    "Scheme 1. Flow chemistry input parameters and responses. Input parameters are shown in blue and output parameters in red. One challenge of continuous processing is the mutual dependency that the input parameters have on each other and that small changes in the reactor setup can significantly impact the responses measured.(BPR=BackPressureRegulator)."
   ]
  },
  {
   "cell_type": "markdown",
   "id": "bd7bb744-49ba-45d0-ae8d-8719f01949fb",
   "metadata": {},
   "source": [
    "## Get the Datamodel from Github repository"
   ]
  },
  {
   "cell_type": "code",
   "execution_count": 6,
   "id": "fbd408ed-5e70-4f56-8916-7cd3e242f91d",
   "metadata": {},
   "outputs": [
    {
     "data": {
      "text/plain": [
       "<sdRDM.base.datamodel.DataModel._extract_modules.<locals>.ImportedModules at 0x7f59b6d037c0>"
      ]
     },
     "execution_count": 6,
     "metadata": {},
     "output_type": "execute_result"
    }
   ],
   "source": [
    "data_template_url = \"https://github.com/C-Kessler/sdrdm-flowchem-B2.git\"\n",
    "model = DataModel.from_git(\n",
    "    url= data_template_url,  \n",
    ")\n",
    "model"
   ]
  },
  {
   "cell_type": "markdown",
   "id": "b0ee353c-800c-4ed5-9abd-7048780f1cea",
   "metadata": {},
   "source": [
    "## Get an impression of what the model looks like\n",
    "The scheme can also be viewed at https://github.com/C-Kessler/sdrdm-flowchem-B2/blob/main/pyDataset/schemes/Dataset.md"
   ]
  },
  {
   "cell_type": "code",
   "execution_count": 7,
   "id": "03c90207-bc79-4e29-a675-2e5f6dbd43fa",
   "metadata": {},
   "outputs": [
    {
     "name": "stdout",
     "output_type": "stream",
     "text": [
      "FlowChemistryProtocol\n",
      "├── id\n",
      "├── description\n",
      "├── title\n",
      "├── subject\n",
      "├── authors\n",
      "│   └── Author\n",
      "│       ├── id\n",
      "│       ├── name\n",
      "│       └── affiliation\n",
      "├── flowmodules\n",
      "│   └── FlowModule\n",
      "│       ├── id\n",
      "│       ├── key\n",
      "│       └── manufacturer\n",
      "├── inputparameters\n",
      "│   └── InputParameter\n",
      "│       ├── id\n",
      "│       ├── key\n",
      "│       └── value\n",
      "└── responseparameters\n",
      "    └── ResponseParameter\n",
      "        ├── id\n",
      "        ├── key\n",
      "        └── value\n"
     ]
    }
   ],
   "source": [
    "Root = model.FlowChemistryProtocol\n",
    "Root.visualize_tree()"
   ]
  },
  {
   "cell_type": "markdown",
   "id": "d8c6030c-eb06-4e53-8096-77bfa23d5af0",
   "metadata": {},
   "source": [
    "## Initialize a Dataset for the specific flow chemistry process"
   ]
  },
  {
   "cell_type": "code",
   "execution_count": 9,
   "id": "49f473f9-56fd-49aa-8e19-431349caf479",
   "metadata": {},
   "outputs": [
    {
     "data": {
      "text/plain": [
       "FlowChemistryProtocol(id='flowchemistryprotocol1', description='An Example process from Hone C. A., Kappe C. O. Towards the Standardization of Flow Chemistry Protocols for Organic Reactions, scheme1', title='Flowchem Scheme 1', subject='flowchem', authors=[], flowmodules=[], inputparameters=[], responseparameters=[])"
      ]
     },
     "execution_count": 9,
     "metadata": {},
     "output_type": "execute_result"
    }
   ],
   "source": [
    "dataset = Root(title=\"Flowchem Scheme 1\", description=\"An Example process from Hone C. A., Kappe C. O. Towards the Standardization of Flow Chemistry Protocols for Organic Reactions, scheme1\", subject = 'flowchem')\n",
    "dataset"
   ]
  },
  {
   "cell_type": "markdown",
   "id": "4eb9236b-b485-4ebe-9ec7-92751824a6df",
   "metadata": {},
   "source": [
    "## develop flow chemistry related readers to get data\n",
    "- what is necessary here?"
   ]
  },
  {
   "cell_type": "markdown",
   "id": "e7bf82d3-bd60-423d-bcb3-bfc03fe3f554",
   "metadata": {},
   "source": [
    "## Enter Data"
   ]
  },
  {
   "cell_type": "code",
   "execution_count": 10,
   "id": "3eadd161-ed55-4700-971e-cc9ac54c878e",
   "metadata": {},
   "outputs": [
    {
     "name": "stdout",
     "output_type": "stream",
     "text": [
      "id='flowchemistryprotocol1' description='An Example process from Hone C. A., Kappe C. O. Towards the Standardization of Flow Chemistry Protocols for Organic Reactions, scheme1' title='Flowchem Scheme 1' subject='flowchem' authors=[Author(id='author0', name='Tallarek, U.', affiliation='University of Marburg'), Author(id='author1', name='Böth, J.-A.', affiliation='University of Marburg')] flowmodules=[FlowModule(id='1', key='Substrate solutions', manufacturer=''), FlowModule(id='4', key='Binary Pump for reaction control', manufacturer='Agilent'), FlowModule(id='5', key='2-position/6-port-valve', manufacturer='Agilent'), FlowModule(id='9', key='Thermostatted HPLC column compartment with the microreactor', manufacturer='Agilent'), FlowModule(id='10', key='Inline DAD', manufacturer='Agilent'), FlowModule(id='2', key='Autosampler', manufacturer='Agilent'), FlowModule(id='3', key='Quaternary pump for analytics', manufacturer='Agilent'), FlowModule(id='6', key='Eluents', manufacturer=''), FlowModule(id='7', key='Online DAD', manufacturer='Agilent'), FlowModule(id='8', key='Thermostatted HPLC column compartment with C-8-column', manufacturer='Agilent'), FlowModule(id='11', key='Fraction collector', manufacturer='Agilent'), FlowModule(id='12', key='ESI-MS', manufacturer='Agilent')] inputparameters=[InputParameter(id='Inp1', key='Feed concentration A', value=0.5)] responseparameters=[]\n"
     ]
    }
   ],
   "source": [
    "dataset.add_to_authors(name=\"Tallarek, U.\", affiliation=\"University of Marburg\")\n",
    "dataset.add_to_authors(name=\"Böth, J.-A.\", affiliation=\"University of Marburg\")\n",
    "# Modules\n",
    "\n",
    "# ReactionModules\n",
    "dataset.add_to_flowmodules(id='1', key = 'Substrate solutions', manufacturer = '')\n",
    "dataset.add_to_flowmodules(id='4', key = 'Binary Pump for reaction control', manufacturer = 'Agilent')\n",
    "dataset.add_to_flowmodules(id='5', key = '2-position/6-port-valve', manufacturer = 'Agilent')\n",
    "dataset.add_to_flowmodules(id='9', key = 'Thermostatted HPLC column compartment with the microreactor', manufacturer = 'Agilent')\n",
    "dataset.add_to_flowmodules(id='10', key = 'Inline DAD', manufacturer = 'Agilent')\n",
    "dataset.add_to_flowmodules(\n",
    "#AnalysisModules\n",
    "dataset.add_to_flowmodules(id='2', key = 'Autosampler', manufacturer = 'Agilent')\n",
    "dataset.add_to_flowmodules(id='3', key = 'Quaternary pump for analytics', manufacturer = 'Agilent')\n",
    "dataset.add_to_flowmodules(id='6', key = 'Eluents', manufacturer = '')\n",
    "dataset.add_to_flowmodules(id='7', key = 'Online DAD', manufacturer = 'Agilent')\n",
    "dataset.add_to_flowmodules(id='8', key = 'Thermostatted HPLC column compartment with C-8-column', manufacturer = 'Agilent')\n",
    "dataset.add_to_flowmodules(id='11', key = 'Fraction collector', manufacturer = 'Agilent')\n",
    "dataset.add_to_flowmodules(id='12', key = 'ESI-MS', manufacturer = 'Agilent')\n",
    "\n",
    "# Input Parameters\n",
    "dataset.add_to_inputparameters(id = 'Inp1', key = 'Feed concentration A', value = 0.5)\n",
    "# Response Parameters\n",
    "# dataset.add_to_responseparameters(\n",
    "\n",
    "print(dataset)"
   ]
  },
  {
   "cell_type": "markdown",
   "id": "7d7f5ffd-0277-4a4e-8780-67644b0f8aaf",
   "metadata": {},
   "source": [
    "## Export the dataset\n",
    "- json\n",
    "- todo DaRUS"
   ]
  },
  {
   "cell_type": "code",
   "execution_count": 10,
   "id": "e3a2ac46-96f4-4dca-b2ff-27c0097c09a3",
   "metadata": {},
   "outputs": [],
   "source": [
    "with open(\"./output/my_dataset.json\", \"w\") as f:\n",
    "    f.write(dataset.json())"
   ]
  },
  {
   "cell_type": "code",
   "execution_count": null,
   "id": "ac11fe47-e953-4610-9efd-fdb252707893",
   "metadata": {},
   "outputs": [],
   "source": []
  }
 ],
 "metadata": {
  "kernelspec": {
   "display_name": "Python 3",
   "language": "python",
   "name": "python3"
  },
  "language_info": {
   "codemirror_mode": {
    "name": "ipython",
    "version": 3
   },
   "file_extension": ".py",
   "mimetype": "text/x-python",
   "name": "python",
   "nbconvert_exporter": "python",
   "pygments_lexer": "ipython3",
   "version": "3.8.13"
  }
 },
 "nbformat": 4,
 "nbformat_minor": 5
}

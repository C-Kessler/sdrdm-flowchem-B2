{
 "cells": [
  {
   "cell_type": "markdown",
   "id": "acddaf89-9232-4b08-92fc-a2a950b287a4",
   "metadata": {},
   "source": [
    "## sdRDM for flow chemistry in CRC 1333\n",
    "- usage requieres a python 3.8 environment\n",
    "- import the necessary librarys\n",
    "- sdRDM: python -m pip install git+https://github.com/JR-1991/software-driven-rdm.git\n",
    "- - get infos about sdRDM at https://github.com/JR-1991/software-driven-rdm\n",
    "- typing: pip install typing"
   ]
  },
  {
   "cell_type": "code",
   "execution_count": 1,
   "id": "c3d2742f-c02f-48b5-b2ba-5a6fd6334774",
   "metadata": {},
   "outputs": [],
   "source": [
    "from sdRDM import DataModel, Field\n",
    "from typing import *"
   ]
  },
  {
   "cell_type": "code",
   "execution_count": 2,
   "id": "d7de3350-19af-4bb8-9315-ec0083911056",
   "metadata": {},
   "outputs": [],
   "source": [
    "from IPython.display import Image"
   ]
  },
  {
   "cell_type": "markdown",
   "id": "cdfc7573-f7c0-4886-b94b-5b6d435b8d55",
   "metadata": {},
   "source": [
    "## Example Repro software-driven-rdm\n",
    "https://github.com/JR-1991/software-driven-rdm/blob/master/README.md"
   ]
  },
  {
   "cell_type": "markdown",
   "id": "a534f581-a778-444d-a67c-f71c82178193",
   "metadata": {},
   "source": [
    "## Example Repro sdrdm-template\n",
    "https://github.com/JR-1991/sdrdm-template"
   ]
  },
  {
   "cell_type": "markdown",
   "id": "96b0427d-5e7f-48b2-96ec-90e04a3b41e8",
   "metadata": {},
   "source": [
    "## First proposal related to Flow Chemistry\n",
    "The example and ideas for data to be collected are taken from:<br>\n",
    "Hone C. A., Kappe C. O. Towards the Standardization of Flow Chemistry Protocols for Organic Reactions<br>\n",
    "https://chemistry-europe.onlinelibrary.wiley.com/doi/10.1002/cmtd.202100059<br>\n",
    "<br>\n",
    "![title](example_data/pics/process.png)\n",
    "<br>\n",
    "Scheme 1. Flow chemistry input parameters and responses. Input parameters are shown in blue and output parameters in red. One challenge of continuous processing is the mutual dependency that the input parameters have on each other and that small changes in the reactor setup can significantly impact the responses measured.(BPR=BackPressureRegulator)."
   ]
  },
  {
   "cell_type": "markdown",
   "id": "bd7bb744-49ba-45d0-ae8d-8719f01949fb",
   "metadata": {},
   "source": [
    "## Get the Datamodel from Github repository"
   ]
  },
  {
   "cell_type": "code",
   "execution_count": 3,
   "id": "fbd408ed-5e70-4f56-8916-7cd3e242f91d",
   "metadata": {},
   "outputs": [
    {
     "name": "stderr",
     "output_type": "stream",
     "text": [
      "Cloning into '/tmp/tmpng3htgai'...\n"
     ]
    },
    {
     "data": {
      "text/plain": [
       "<sdRDM.base.importemodules.ImportedModules at 0x7fbb49e6d280>"
      ]
     },
     "execution_count": 3,
     "metadata": {},
     "output_type": "execute_result"
    }
   ],
   "source": [
    "data_template_url = \"https://github.com/C-Kessler/sdrdm-flowchem-B2.git\"\n",
    "model = DataModel.from_git(\n",
    "    url= data_template_url,  \n",
    ")\n",
    "model"
   ]
  },
  {
   "cell_type": "markdown",
   "id": "b0ee353c-800c-4ed5-9abd-7048780f1cea",
   "metadata": {},
   "source": [
    "## Get an impression of what the model looks like\n",
    "The scheme can also be viewed at https://github.com/C-Kessler/sdrdm-flowchem-B2/blob/main/pyDataset/schemes/Dataset.md"
   ]
  },
  {
   "cell_type": "code",
   "execution_count": 4,
   "id": "03c90207-bc79-4e29-a675-2e5f6dbd43fa",
   "metadata": {},
   "outputs": [
    {
     "name": "stdout",
     "output_type": "stream",
     "text": [
      "FlowChemistryProtocol\n",
      "├── id\n",
      "├── description\n",
      "├── title\n",
      "├── subject\n",
      "├── authors\n",
      "│   └── Author\n",
      "│       ├── id\n",
      "│       ├── name\n",
      "│       └── affiliation\n",
      "├── flowmodules\n",
      "│   └── FlowModule\n",
      "│       ├── id\n",
      "│       ├── key\n",
      "│       ├── manufacturer\n",
      "│       ├── type_number\n",
      "│       ├── series\n",
      "│       ├── manual_link\n",
      "│       └── asd\n",
      "├── inputparameters\n",
      "│   └── InputParameter\n",
      "│       ├── id\n",
      "│       ├── key\n",
      "│       └── value\n",
      "└── ReactionModules\n",
      "    └── ReactionModule\n",
      "        ├── id\n",
      "        ├── key\n",
      "        ├── manufacturer\n",
      "        ├── type_number\n",
      "        ├── series\n",
      "        ├── manual_link\n",
      "        ├── asd\n",
      "        └── test\n"
     ]
    }
   ],
   "source": [
    "Root = model.FlowChemistryProtocol\n",
    "Root.visualize_tree()"
   ]
  },
  {
   "cell_type": "markdown",
   "id": "d8c6030c-eb06-4e53-8096-77bfa23d5af0",
   "metadata": {},
   "source": [
    "## Initialize a Dataset for the specific flow chemistry process"
   ]
  },
  {
   "cell_type": "code",
   "execution_count": 5,
   "id": "49f473f9-56fd-49aa-8e19-431349caf479",
   "metadata": {},
   "outputs": [
    {
     "data": {
      "text/plain": [
       "FlowChemistryProtocol(id='flowchemistryprotocol0', description='An Example process from Hone C. A., Kappe C. O. Towards the Standardization of Flow Chemistry Protocols for Organic Reactions, scheme1', title='Flowchem Scheme 1', subject='flowchem', authors=[], flowmodules=[], inputparameters=[], ReactionModules=[])"
      ]
     },
     "execution_count": 5,
     "metadata": {},
     "output_type": "execute_result"
    }
   ],
   "source": [
    "dataset = Root(title=\"Flowchem Scheme 1\", description=\"An Example process from Hone C. A., Kappe C. O. Towards the Standardization of Flow Chemistry Protocols for Organic Reactions, scheme1\", subject = 'flowchem')\n",
    "dataset"
   ]
  },
  {
   "cell_type": "markdown",
   "id": "e7bf82d3-bd60-423d-bcb3-bfc03fe3f554",
   "metadata": {},
   "source": [
    "## Enter Data"
   ]
  },
  {
   "cell_type": "code",
   "execution_count": 6,
   "id": "3eadd161-ed55-4700-971e-cc9ac54c878e",
   "metadata": {},
   "outputs": [
    {
     "ename": "AttributeError",
     "evalue": "'FlowChemistryProtocol' object has no attribute 'add_to_reaction_modules'",
     "output_type": "error",
     "traceback": [
      "\u001b[0;31m---------------------------------------------------------------------------\u001b[0m",
      "\u001b[0;31mAttributeError\u001b[0m                            Traceback (most recent call last)",
      "Cell \u001b[0;32mIn [6], line 7\u001b[0m\n\u001b[1;32m      3\u001b[0m dataset\u001b[38;5;241m.\u001b[39madd_to_authors(name\u001b[38;5;241m=\u001b[39m\u001b[38;5;124m\"\u001b[39m\u001b[38;5;124mBöth, J.-A.\u001b[39m\u001b[38;5;124m\"\u001b[39m, affiliation\u001b[38;5;241m=\u001b[39m\u001b[38;5;124m\"\u001b[39m\u001b[38;5;124mUniversity of Marburg\u001b[39m\u001b[38;5;124m\"\u001b[39m)\n\u001b[1;32m      5\u001b[0m \u001b[38;5;66;03m# Modules\u001b[39;00m\n\u001b[1;32m      6\u001b[0m \u001b[38;5;66;03m# ReactionModules\u001b[39;00m\n\u001b[0;32m----> 7\u001b[0m dataset\u001b[38;5;241m.\u001b[39madd_to_reaction_modules(\u001b[38;5;28mid\u001b[39m\u001b[38;5;241m=\u001b[39m\u001b[38;5;124m'\u001b[39m\u001b[38;5;124m1\u001b[39m\u001b[38;5;124m'\u001b[39m, key \u001b[38;5;241m=\u001b[39m \u001b[38;5;124m'\u001b[39m\u001b[38;5;124mSubstrate solutions\u001b[39m\u001b[38;5;124m'\u001b[39m, manufacturer \u001b[38;5;241m=\u001b[39m \u001b[38;5;124m'\u001b[39m\u001b[38;5;124mAl\u001b[39m\u001b[38;5;124m'\u001b[39m)\n\u001b[1;32m      8\u001b[0m dataset\u001b[38;5;241m.\u001b[39madd_to_reaction_modules(\u001b[38;5;28mid\u001b[39m\u001b[38;5;241m=\u001b[39m\u001b[38;5;124m'\u001b[39m\u001b[38;5;124m4\u001b[39m\u001b[38;5;124m'\u001b[39m, key \u001b[38;5;241m=\u001b[39m \u001b[38;5;124m'\u001b[39m\u001b[38;5;124mBinary Pump for reaction control\u001b[39m\u001b[38;5;124m'\u001b[39m, manufacturer \u001b[38;5;241m=\u001b[39m \u001b[38;5;124m'\u001b[39m\u001b[38;5;124mAgilent\u001b[39m\u001b[38;5;124m'\u001b[39m, series \u001b[38;5;241m=\u001b[39m \u001b[38;5;124m'\u001b[39m\u001b[38;5;124m1290 Infinity II Series\u001b[39m\u001b[38;5;124m'\u001b[39m, type_number\u001b[38;5;241m=\u001b[39m\u001b[38;5;124m'\u001b[39m\u001b[38;5;124mG7120A\u001b[39m\u001b[38;5;124m'\u001b[39m)\n\u001b[1;32m      9\u001b[0m dataset\u001b[38;5;241m.\u001b[39madd_to_reaction_modules(\u001b[38;5;28mid\u001b[39m\u001b[38;5;241m=\u001b[39m\u001b[38;5;124m'\u001b[39m\u001b[38;5;124m5\u001b[39m\u001b[38;5;124m'\u001b[39m, key \u001b[38;5;241m=\u001b[39m \u001b[38;5;124m'\u001b[39m\u001b[38;5;124m2-position/6-port-valve\u001b[39m\u001b[38;5;124m'\u001b[39m, manufacturer \u001b[38;5;241m=\u001b[39m \u001b[38;5;124m'\u001b[39m\u001b[38;5;124mAgilent\u001b[39m\u001b[38;5;124m'\u001b[39m, series \u001b[38;5;241m=\u001b[39m \u001b[38;5;124m'\u001b[39m\u001b[38;5;124m1290 Infinity II Series\u001b[39m\u001b[38;5;124m'\u001b[39m, type_number \u001b[38;5;241m=\u001b[39m \u001b[38;5;124m'\u001b[39m\u001b[38;5;124mG1170A\u001b[39m\u001b[38;5;124m'\u001b[39m )\n",
      "\u001b[0;31mAttributeError\u001b[0m: 'FlowChemistryProtocol' object has no attribute 'add_to_reaction_modules'"
     ]
    }
   ],
   "source": [
    "# Authors\n",
    "dataset.add_to_authors(name=\"Tallarek, U.\", affiliation=\"University of Marburg\")\n",
    "dataset.add_to_authors(name=\"Böth, J.-A.\", affiliation=\"University of Marburg\")\n"
   ]
  },
  {
   "cell_type": "markdown",
   "id": "7d7f5ffd-0277-4a4e-8780-67644b0f8aaf",
   "metadata": {},
   "source": [
    "## Export the dataset\n",
    "- json\n",
    "- todo DaRUS"
   ]
  },
  {
   "cell_type": "code",
   "execution_count": null,
   "id": "e3a2ac46-96f4-4dca-b2ff-27c0097c09a3",
   "metadata": {},
   "outputs": [],
   "source": [
    "with open(\"./output/my_dataset.json\", \"w\") as f:\n",
    "    f.write(dataset.json())"
   ]
  },
  {
   "cell_type": "code",
   "execution_count": null,
   "id": "ac11fe47-e953-4610-9efd-fdb252707893",
   "metadata": {},
   "outputs": [],
   "source": []
  }
 ],
 "metadata": {
  "kernelspec": {
   "display_name": "Python 3 (ipykernel)",
   "language": "python",
   "name": "python3"
  },
  "language_info": {
   "codemirror_mode": {
    "name": "ipython",
    "version": 3
   },
   "file_extension": ".py",
   "mimetype": "text/x-python",
   "name": "python",
   "nbconvert_exporter": "python",
   "pygments_lexer": "ipython3",
   "version": "3.8.13"
  }
 },
 "nbformat": 4,
 "nbformat_minor": 5
}

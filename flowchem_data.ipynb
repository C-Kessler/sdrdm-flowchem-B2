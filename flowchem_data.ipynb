{
 "cells": [
  {
   "cell_type": "markdown",
   "id": "acddaf89-9232-4b08-92fc-a2a950b287a4",
   "metadata": {},
   "source": [
    "## sdRDM for flow chemistry in CRC 1333\n",
    "- usage requieres a python 3.8 environment\n",
    "- import the necessary librarys\n",
    "- sdRDM: python -m pip install git+https://github.com/JR-1991/software-driven-rdm.git\n",
    "- - get infos about sdRDM at https://github.com/JR-1991/software-driven-rdm\n",
    "- typing: pip install typing"
   ]
  },
  {
   "cell_type": "code",
   "execution_count": 1,
   "id": "c3d2742f-c02f-48b5-b2ba-5a6fd6334774",
   "metadata": {},
   "outputs": [],
   "source": [
    "from sdRDM import DataModel, Field\n",
    "from typing import *"
   ]
  },
  {
   "cell_type": "code",
   "execution_count": 2,
   "id": "d7de3350-19af-4bb8-9315-ec0083911056",
   "metadata": {},
   "outputs": [],
   "source": [
    "from IPython.display import Image"
   ]
  },
  {
   "cell_type": "markdown",
   "id": "cdfc7573-f7c0-4886-b94b-5b6d435b8d55",
   "metadata": {},
   "source": [
    "## Example Repro software-driven-rdm\n",
    "https://github.com/JR-1991/software-driven-rdm/blob/master/README.md"
   ]
  },
  {
   "cell_type": "markdown",
   "id": "a534f581-a778-444d-a67c-f71c82178193",
   "metadata": {},
   "source": [
    "## Example Repro sdrdm-template\n",
    "https://github.com/JR-1991/sdrdm-template"
   ]
  },
  {
   "cell_type": "markdown",
   "id": "96b0427d-5e7f-48b2-96ec-90e04a3b41e8",
   "metadata": {},
   "source": [
    "## First proposal related to Flow Chemistry\n",
    "The example and ideas for data to be collected are taken from:<br>\n",
    "Hone C. A., Kappe C. O. Towards the Standardization of Flow Chemistry Protocols for Organic Reactions<br>\n",
    "https://chemistry-europe.onlinelibrary.wiley.com/doi/10.1002/cmtd.202100059<br>\n",
    "<br>\n",
    "![title](example_data/pics/process.png)\n",
    "<br>\n",
    "Scheme 1. Flow chemistry input parameters and responses. Input parameters are shown in blue and output parameters in red. One challenge of continuous processing is the mutual dependency that the input parameters have on each other and that small changes in the reactor setup can significantly impact the responses measured.(BPR=BackPressureRegulator)."
   ]
  },
  {
   "cell_type": "markdown",
   "id": "bd7bb744-49ba-45d0-ae8d-8719f01949fb",
   "metadata": {},
   "source": [
    "## Get the Datamodel from Github repository"
   ]
  },
  {
   "cell_type": "code",
   "execution_count": 3,
   "id": "fbd408ed-5e70-4f56-8916-7cd3e242f91d",
   "metadata": {},
   "outputs": [
    {
     "name": "stderr",
     "output_type": "stream",
     "text": [
      "Cloning into '/tmp/tmp6d3tp213'...\n"
     ]
    },
    {
     "data": {
      "text/plain": [
       "<sdRDM.base.importemodules.ImportedModules at 0x7f6df2791970>"
      ]
     },
     "execution_count": 3,
     "metadata": {},
     "output_type": "execute_result"
    }
   ],
   "source": [
    "data_template_url = \"https://github.com/C-Kessler/sdrdm-flowchem-B2.git\"\n",
    "model = DataModel.from_git(\n",
    "    url= data_template_url,  \n",
    ")\n",
    "model"
   ]
  },
  {
   "cell_type": "markdown",
   "id": "b0ee353c-800c-4ed5-9abd-7048780f1cea",
   "metadata": {},
   "source": [
    "## Get an impression of what the model looks like\n",
    "The scheme can also be viewed at https://github.com/C-Kessler/sdrdm-flowchem-B2/blob/main/pyDataset/schemes/Dataset.md"
   ]
  },
  {
   "cell_type": "code",
   "execution_count": 4,
   "id": "03c90207-bc79-4e29-a675-2e5f6dbd43fa",
   "metadata": {},
   "outputs": [
    {
     "name": "stdout",
     "output_type": "stream",
     "text": [
      "FlowChemistryProtocol\n",
      "├── id\n",
      "├── description\n",
      "├── title\n",
      "├── subject\n",
      "├── authors\n",
      "│   └── Author\n",
      "│       ├── id\n",
      "│       ├── name\n",
      "│       └── affiliation\n",
      "├── flowmodules\n",
      "│   └── FlowModule\n",
      "│       ├── id\n",
      "│       ├── key\n",
      "│       ├── manufacturer\n",
      "│       ├── type_number\n",
      "│       ├── series\n",
      "│       ├── manual_link\n",
      "│       └── asd\n",
      "├── inputparameters\n",
      "│   └── InputParameter\n",
      "│       ├── id\n",
      "│       ├── key\n",
      "│       └── value\n",
      "├── reactionmodules\n",
      "│   └── ReactionModule\n",
      "│       ├── id\n",
      "│       ├── key\n",
      "│       ├── manufacturer\n",
      "│       ├── type_number\n",
      "│       ├── series\n",
      "│       ├── manual_link\n",
      "│       ├── asd\n",
      "│       └── test\n",
      "└── analysismodules\n",
      "    └── AnalysisModule\n",
      "        ├── id\n",
      "        ├── key\n",
      "        ├── manufacturer\n",
      "        ├── type_number\n",
      "        ├── series\n",
      "        ├── manual_link\n",
      "        └── asd\n"
     ]
    }
   ],
   "source": [
    "Root = model.FlowChemistryProtocol\n",
    "Root.visualize_tree()"
   ]
  },
  {
   "cell_type": "markdown",
   "id": "d8c6030c-eb06-4e53-8096-77bfa23d5af0",
   "metadata": {},
   "source": [
    "## Initialize a Dataset for the specific flow chemistry process"
   ]
  },
  {
   "cell_type": "code",
   "execution_count": 5,
   "id": "49f473f9-56fd-49aa-8e19-431349caf479",
   "metadata": {},
   "outputs": [
    {
     "data": {
      "text/plain": [
       "FlowChemistryProtocol(id='flowchemistryprotocol0', description='An Example process from Hone C. A., Kappe C. O. Towards the Standardization of Flow Chemistry Protocols for Organic Reactions, scheme1', title='Flowchem Scheme 1', subject='flowchem', authors=[], flowmodules=[], inputparameters=[], reactionmodules=[], analysismodules=[])"
      ]
     },
     "execution_count": 5,
     "metadata": {},
     "output_type": "execute_result"
    }
   ],
   "source": [
    "dataset = Root(title=\"Flowchem Scheme 1\", description=\"An Example process from Hone C. A., Kappe C. O. Towards the Standardization of Flow Chemistry Protocols for Organic Reactions, scheme1\", subject = 'flowchem')\n",
    "dataset"
   ]
  },
  {
   "cell_type": "markdown",
   "id": "e7bf82d3-bd60-423d-bcb3-bfc03fe3f554",
   "metadata": {},
   "source": [
    "## Enter Data"
   ]
  },
  {
   "cell_type": "code",
   "execution_count": 6,
   "id": "3eadd161-ed55-4700-971e-cc9ac54c878e",
   "metadata": {},
   "outputs": [],
   "source": [
    "# Authors\n",
    "dataset.add_to_authors(name=\"Tallarek, U.\", affiliation=\"University of Marburg\")\n",
    "dataset.add_to_authors(name=\"Böth, J.-A.\", affiliation=\"University of Marburg\")"
   ]
  },
  {
   "cell_type": "code",
   "execution_count": 7,
   "id": "5536f85f-f008-41a4-b834-92c20b02326e",
   "metadata": {},
   "outputs": [],
   "source": [
    "# Modules\n",
    "# ReactionModules\n",
    "dataset.add_to_reactionmodules(id='1', key = 'Substrate solutions', manufacturer = 'Al')\n",
    "dataset.add_to_reactionmodules(id='4', key = 'Binary Pump for reaction control', manufacturer = 'Agilent', series = '1290 Infinity II Series', type_number='G7120A')\n",
    "dataset.add_to_reactionmodules(id='5', key = '2-position/6-port-valve', manufacturer = 'Agilent', series = '1290 Infinity II Series', type_number = 'G1170A' )\n",
    "dataset.add_to_reactionmodules(id='9', key = 'Thermostatted HPLC column compartment with the microreactor', manufacturer = 'Agilent', series = '1290 Infinity II Series', type_number = 'G7116B')\n",
    "dataset.add_to_reactionmodules(id='10', key = 'Inline DAD', manufacturer = 'Agilent', series = '1290 Infinity II Series', type_number = 'G7115A')"
   ]
  },
  {
   "cell_type": "code",
   "execution_count": 8,
   "id": "d6e461dd-9dc1-41c8-b677-a0584ab84866",
   "metadata": {},
   "outputs": [
    {
     "name": "stdout",
     "output_type": "stream",
     "text": [
      "id='flowchemistryprotocol0' description='An Example process from Hone C. A., Kappe C. O. Towards the Standardization of Flow Chemistry Protocols for Organic Reactions, scheme1' title='Flowchem Scheme 1' subject='flowchem' authors=[Author(id='author0', name='Tallarek, U.', affiliation='University of Marburg'), Author(id='author1', name='Böth, J.-A.', affiliation='University of Marburg')] flowmodules=[] inputparameters=[] reactionmodules=[ReactionModule(id='1', key='Substrate solutions', manufacturer='Al', type_number=None, series=None, manual_link=None, asd=None, test=None), ReactionModule(id='4', key='Binary Pump for reaction control', manufacturer='Agilent', type_number='G7120A', series='1290 Infinity II Series', manual_link=None, asd=None, test=None), ReactionModule(id='5', key='2-position/6-port-valve', manufacturer='Agilent', type_number='G1170A', series='1290 Infinity II Series', manual_link=None, asd=None, test=None), ReactionModule(id='9', key='Thermostatted HPLC column compartment with the microreactor', manufacturer='Agilent', type_number='G7116B', series='1290 Infinity II Series', manual_link=None, asd=None, test=None), ReactionModule(id='10', key='Inline DAD', manufacturer='Agilent', type_number='G7115A', series='1290 Infinity II Series', manual_link=None, asd=None, test=None)] analysismodules=[AnalysisModule(id='2', key='Autosampler', manufacturer='Agilent', type_number='G7129B', series='1290 Infinity II Series', manual_link=None, asd=None), AnalysisModule(id='3', key='Quaternary pump for analytics', manufacturer='Agilent', type_number='G7104A', series='1290 Infinity II Series', manual_link=None, asd=None), AnalysisModule(id='6', key='Eluents', manufacturer='', type_number=None, series=None, manual_link=None, asd=None), AnalysisModule(id='7', key='Online DAD', manufacturer='Agilent', type_number='G7115A', series='1290 Infinity II Series', manual_link=None, asd=None), AnalysisModule(id='8', key='Thermostatted HPLC column compartment with C-8-column', manufacturer='Agilent', type_number='G7116B', series='1290 Infinity II Series', manual_link=None, asd=None), AnalysisModule(id='11', key='Fraction collector', manufacturer='Agilent', type_number='G1364E', series='1290 Infinity II Series', manual_link=None, asd=None), AnalysisModule(id='12', key='ESI-MS', manufacturer='Agilent', type_number='G6150B', series='1290 Infinity II Series', manual_link=None, asd=None)]\n"
     ]
    }
   ],
   "source": [
    "\n",
    "#AnalysisModules\n",
    "dataset.add_to_analysismodules(id='2', key = 'Autosampler', manufacturer = 'Agilent', series = '1290 Infinity II Series', type_number = 'G7129B')\n",
    "dataset.add_to_analysismodules(id='3', key = 'Quaternary pump for analytics', manufacturer = 'Agilent', series = '1290 Infinity II Series', type_number = 'G7104A')\n",
    "dataset.add_to_analysismodules(id='6', key = 'Eluents', manufacturer = '')\n",
    "dataset.add_to_analysismodules(id='7', key = 'Online DAD', manufacturer = 'Agilent', series = '1290 Infinity II Series', type_number = 'G7115A')\n",
    "dataset.add_to_analysismodules(id='8', key = 'Thermostatted HPLC column compartment with C-8-column', manufacturer = 'Agilent', series = '1290 Infinity II Series', type_number = 'G7116B')\n",
    "dataset.add_to_analysismodules(id='11', key = 'Fraction collector', manufacturer = 'Agilent', series = '1290 Infinity II Series', type_number = 'G1364E')\n",
    "dataset.add_to_analysismodules(id='12', key = 'ESI-MS', manufacturer = 'Agilent', series = '1290 Infinity II Series', type_number = 'G6150B')\n",
    "\n",
    "# Response Parameters\n",
    "# dataset.add_to_responseparameters(\n",
    "\n",
    "print(dataset)"
   ]
  },
  {
   "cell_type": "markdown",
   "id": "7d7f5ffd-0277-4a4e-8780-67644b0f8aaf",
   "metadata": {},
   "source": [
    "## Export the dataset\n",
    "- json\n",
    "- todo DaRUS"
   ]
  },
  {
   "cell_type": "code",
   "execution_count": null,
   "id": "e3a2ac46-96f4-4dca-b2ff-27c0097c09a3",
   "metadata": {},
   "outputs": [],
   "source": [
    "with open(\"./output/my_dataset.json\", \"w\") as f:\n",
    "    f.write(dataset.json())"
   ]
  },
  {
   "cell_type": "code",
   "execution_count": null,
   "id": "ac11fe47-e953-4610-9efd-fdb252707893",
   "metadata": {},
   "outputs": [],
   "source": []
  }
 ],
 "metadata": {
  "kernelspec": {
   "display_name": "Python 3 (ipykernel)",
   "language": "python",
   "name": "python3"
  },
  "language_info": {
   "codemirror_mode": {
    "name": "ipython",
    "version": 3
   },
   "file_extension": ".py",
   "mimetype": "text/x-python",
   "name": "python",
   "nbconvert_exporter": "python",
   "pygments_lexer": "ipython3",
   "version": "3.8.13"
  }
 },
 "nbformat": 4,
 "nbformat_minor": 5
}

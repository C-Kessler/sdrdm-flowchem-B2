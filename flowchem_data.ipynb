{
 "cells": [
  {
   "cell_type": "markdown",
   "id": "acddaf89-9232-4b08-92fc-a2a950b287a4",
   "metadata": {},
   "source": [
    "## sdRDM for flow chemistry in CRC 1333\n",
    "- usage requieres a python 3.8 environment\n",
    "- import the necessary librarys\n",
    "- sdRDM: python -m pip install git+https://github.com/JR-1991/software-driven-rdm.git\n",
    "- - get infos about sdRDM at https://github.com/JR-1991/software-driven-rdm\n",
    "- typing: pip install typing"
   ]
  },
  {
   "cell_type": "code",
   "execution_count": 1,
   "id": "c3d2742f-c02f-48b5-b2ba-5a6fd6334774",
   "metadata": {},
   "outputs": [],
   "source": [
    "from sdRDM import DataModel, Field\n",
    "from typing import *"
   ]
  },
  {
   "cell_type": "code",
   "execution_count": 2,
   "id": "d7de3350-19af-4bb8-9315-ec0083911056",
   "metadata": {},
   "outputs": [],
   "source": [
    "from IPython.display import Image"
   ]
  },
  {
   "cell_type": "markdown",
   "id": "cdfc7573-f7c0-4886-b94b-5b6d435b8d55",
   "metadata": {},
   "source": [
    "## Example Repro software-driven-rdm\n",
    "https://github.com/JR-1991/software-driven-rdm/blob/master/README.md"
   ]
  },
  {
   "cell_type": "code",
   "execution_count": 3,
   "id": "cef2c0bf-9b0e-4aa7-9c64-814e076f5f29",
   "metadata": {},
   "outputs": [],
   "source": [
    "# class Person(DataModel):\n",
    "\n",
    "#     name: str = Field(\n",
    "#         ...,\n",
    "#         description=\"Name of a person\"\n",
    "#     )\n",
    "#     age: int = Field(\n",
    "#         ...,\n",
    "#         description=\"Age of a person\"\n",
    "#     )\n",
    "\n",
    "# class Group(DataModel):\n",
    "\n",
    "#     name: str = Field(\n",
    "#         ...,\n",
    "#         description=\"Name of this group\"\n",
    "#     )\n",
    "\n",
    "#     persons: List[Person] = Field(\n",
    "#         description=\"Persons from this group\",\n",
    "#         default_factory=list\n",
    "#     )"
   ]
  },
  {
   "cell_type": "code",
   "execution_count": 4,
   "id": "f10168a1-4c62-4894-a597-2e9862adb091",
   "metadata": {},
   "outputs": [],
   "source": [
    "# # Apply data model\n",
    "# person1 = Person(name=\"Max\", age=43)\n",
    "# person2 = Person(name=\"Hannah\", age=38)\n",
    "\n",
    "# group = Group(\n",
    "#     name=\"sdRDM Group\",\n",
    "#     persons=[person1, person2]\n",
    "# )\n",
    "\n",
    "# print(group.yaml())"
   ]
  },
  {
   "cell_type": "markdown",
   "id": "a534f581-a778-444d-a67c-f71c82178193",
   "metadata": {},
   "source": [
    "## Example Repro sdrdm-template\n",
    "https://github.com/JR-1991/sdrdm-template"
   ]
  },
  {
   "cell_type": "code",
   "execution_count": 5,
   "id": "1d6277b2-bead-470f-a474-76ee439b504c",
   "metadata": {},
   "outputs": [],
   "source": [
    "# Root, Author, Parameter = DataModel.from_git(\n",
    "#     url=\"https://github.com/JR-1991/sdrdm-template.git\",\n",
    "#     import_modules = [\"Author\", \"Parameter\"]\n",
    "# )\n",
    "\n",
    "# # Visualize the data model\n",
    "# Root.visualize_tree()\n",
    "\n",
    "# # Enter your data\n",
    "# dataset = Root(title=\"Some Title\", description=\"Some Description\")\n",
    "# dataset.add_to_authors(name=\"Jan Range\", affiliation=\"SimTech\")\n",
    "# dataset.add_to_parameters(key=\"Param\", value=10.0)\n",
    "\n",
    "# # Inspect your dataset\n",
    "# print(dataset.yaml())\n",
    "\n",
    "# # Option: Link your dataset to an option --> Dataverse\n",
    "# dataset.to_dataverse()\n",
    "\n",
    "# # Option: Export your dataset to another format\n",
    "# with open(\"my_dataset.json\", \"w\") as f:\n",
    "#     f.write(dataset.json())\n",
    "\n",
    "# # Re-opening your dataset using sdRDM will cause the library\n",
    "# # to re-build the software state in which the dataset was created"
   ]
  },
  {
   "cell_type": "markdown",
   "id": "96b0427d-5e7f-48b2-96ec-90e04a3b41e8",
   "metadata": {},
   "source": [
    "## First proposal related to Flow Chemistry\n",
    "The example and ideas for data to be collected are taken from:<br>\n",
    "Hone C. A., Kappe C. O. Towards the Standardization of Flow Chemistry Protocols for Organic Reactions<br>\n",
    "https://chemistry-europe.onlinelibrary.wiley.com/doi/10.1002/cmtd.202100059<br>\n",
    "<br>\n",
    "![title](example_data/pics/process.png)\n",
    "<br>\n",
    "Scheme 1. Flow chemistry input parameters and responses. Input parameters are shown in blue and output parameters in red. One challenge of continuous processing is the mutual dependency that the input parameters have on each other and that small changes in the reactor setup can significantly impact the responses measured.(BPR=BackPressureRegulator)."
   ]
  },
  {
   "cell_type": "markdown",
   "id": "bd7bb744-49ba-45d0-ae8d-8719f01949fb",
   "metadata": {},
   "source": [
    "## Get the Datamodel from Github repository"
   ]
  },
  {
   "cell_type": "code",
   "execution_count": 6,
   "id": "fbd408ed-5e70-4f56-8916-7cd3e242f91d",
   "metadata": {},
   "outputs": [
    {
     "ename": "AttributeError",
     "evalue": "module 'ast' has no attribute 'unparse'",
     "output_type": "error",
     "traceback": [
      "\u001b[0;31m---------------------------------------------------------------------------\u001b[0m",
      "\u001b[0;31mAttributeError\u001b[0m                            Traceback (most recent call last)",
      "Cell \u001b[0;32mIn [6], line 2\u001b[0m\n\u001b[1;32m      1\u001b[0m data_template_url \u001b[38;5;241m=\u001b[39m \u001b[38;5;124m\"\u001b[39m\u001b[38;5;124mhttps://github.com/C-Kessler/sdrdm-flowchem-B2.git\u001b[39m\u001b[38;5;124m\"\u001b[39m\n\u001b[0;32m----> 2\u001b[0m model \u001b[38;5;241m=\u001b[39m \u001b[43mDataModel\u001b[49m\u001b[38;5;241;43m.\u001b[39;49m\u001b[43mfrom_git\u001b[49m\u001b[43m(\u001b[49m\n\u001b[1;32m      3\u001b[0m \u001b[43m    \u001b[49m\u001b[43murl\u001b[49m\u001b[38;5;241;43m=\u001b[39;49m\u001b[43m \u001b[49m\u001b[43mdata_template_url\u001b[49m\u001b[43m,\u001b[49m\u001b[43m  \u001b[49m\n\u001b[1;32m      4\u001b[0m \u001b[43m)\u001b[49m\n\u001b[1;32m      5\u001b[0m model\n",
      "File \u001b[0;32m~/anaconda3/envs/python38/lib/python3.8/site-packages/sdRDM/base/datamodel.py:368\u001b[0m, in \u001b[0;36mDataModel.from_git\u001b[0;34m(cls, url, commit, tag, only_classes)\u001b[0m\n\u001b[1;32m    365\u001b[0m     \u001b[38;5;28;01mraise\u001b[39;00m \u001b[38;5;167;01mValueError\u001b[39;00m(\u001b[38;5;124mf\u001b[39m\u001b[38;5;124m\"\u001b[39m\u001b[38;5;124mGiven URL \u001b[39m\u001b[38;5;124m'\u001b[39m\u001b[38;5;132;01m{\u001b[39;00murl\u001b[38;5;132;01m}\u001b[39;00m\u001b[38;5;124m'\u001b[39m\u001b[38;5;124m is not a valid URL.\u001b[39m\u001b[38;5;124m\"\u001b[39m)\n\u001b[1;32m    367\u001b[0m \u001b[38;5;66;03m# Build and import the library\u001b[39;00m\n\u001b[0;32m--> 368\u001b[0m lib, links \u001b[38;5;241m=\u001b[39m \u001b[43mbuild_library_from_git_specs\u001b[49m\u001b[43m(\u001b[49m\n\u001b[1;32m    369\u001b[0m \u001b[43m    \u001b[49m\u001b[43murl\u001b[49m\u001b[38;5;241;43m=\u001b[39;49m\u001b[43murl\u001b[49m\u001b[43m,\u001b[49m\u001b[43m \u001b[49m\u001b[43mcommit\u001b[49m\u001b[38;5;241;43m=\u001b[39;49m\u001b[43mcommit\u001b[49m\u001b[43m,\u001b[49m\u001b[43m \u001b[49m\u001b[43mtag\u001b[49m\u001b[38;5;241;43m=\u001b[39;49m\u001b[43mtag\u001b[49m\u001b[43m,\u001b[49m\u001b[43m \u001b[49m\u001b[43monly_classes\u001b[49m\u001b[38;5;241;43m=\u001b[39;49m\u001b[43monly_classes\u001b[49m\n\u001b[1;32m    370\u001b[0m \u001b[43m\u001b[49m\u001b[43m)\u001b[49m\n\u001b[1;32m    372\u001b[0m \u001b[38;5;28;01mif\u001b[39;00m only_classes:\n\u001b[1;32m    373\u001b[0m     \u001b[38;5;28;01mreturn\u001b[39;00m lib\n",
      "File \u001b[0;32m~/anaconda3/envs/python38/lib/python3.8/site-packages/sdRDM/tools/gitutils.py:84\u001b[0m, in \u001b[0;36mbuild_library_from_git_specs\u001b[0;34m(url, commit, tag, only_classes)\u001b[0m\n\u001b[1;32m     82\u001b[0m lib_name \u001b[38;5;241m=\u001b[39m \u001b[38;5;124mf\u001b[39m\u001b[38;5;124m\"\u001b[39m\u001b[38;5;124msdRDM-Library-\u001b[39m\u001b[38;5;132;01m{\u001b[39;00m\u001b[38;5;28mstr\u001b[39m(random\u001b[38;5;241m.\u001b[39mrandint(\u001b[38;5;241m0\u001b[39m,\u001b[38;5;241m30\u001b[39m))\u001b[38;5;132;01m}\u001b[39;00m\u001b[38;5;124m\"\u001b[39m\n\u001b[1;32m     83\u001b[0m api_loc \u001b[38;5;241m=\u001b[39m os\u001b[38;5;241m.\u001b[39mpath\u001b[38;5;241m.\u001b[39mjoin(tmpdirname, lib_name)\n\u001b[0;32m---> 84\u001b[0m cls_defs \u001b[38;5;241m=\u001b[39m \u001b[43mgenerate_python_api\u001b[49m\u001b[43m(\u001b[49m\n\u001b[1;32m     85\u001b[0m \u001b[43m    \u001b[49m\u001b[43mpath\u001b[49m\u001b[38;5;241;43m=\u001b[39;49m\u001b[43mschema_loc\u001b[49m\u001b[43m,\u001b[49m\n\u001b[1;32m     86\u001b[0m \u001b[43m    \u001b[49m\u001b[43mout\u001b[49m\u001b[38;5;241;43m=\u001b[39;49m\u001b[43mtmpdirname\u001b[49m\u001b[43m,\u001b[49m\n\u001b[1;32m     87\u001b[0m \u001b[43m    \u001b[49m\u001b[43mname\u001b[49m\u001b[38;5;241;43m=\u001b[39;49m\u001b[43mlib_name\u001b[49m\u001b[43m,\u001b[49m\n\u001b[1;32m     88\u001b[0m \u001b[43m    \u001b[49m\u001b[43murl\u001b[49m\u001b[38;5;241;43m=\u001b[39;49m\u001b[43murl\u001b[49m\u001b[43m,\u001b[49m\n\u001b[1;32m     89\u001b[0m \u001b[43m    \u001b[49m\u001b[43mcommit\u001b[49m\u001b[38;5;241;43m=\u001b[39;49m\u001b[43mcommit\u001b[49m\u001b[43m,\u001b[49m\n\u001b[1;32m     90\u001b[0m \u001b[43m    \u001b[49m\u001b[43monly_classes\u001b[49m\u001b[38;5;241;43m=\u001b[39;49m\u001b[43monly_classes\u001b[49m\u001b[43m,\u001b[49m\n\u001b[1;32m     91\u001b[0m \u001b[43m    \u001b[49m\u001b[43muse_formatter\u001b[49m\u001b[38;5;241;43m=\u001b[39;49m\u001b[38;5;28;43;01mFalse\u001b[39;49;00m\u001b[43m,\u001b[49m\n\u001b[1;32m     92\u001b[0m \u001b[43m\u001b[49m\u001b[43m)\u001b[49m\n\u001b[1;32m     94\u001b[0m \u001b[38;5;28;01mif\u001b[39;00m only_classes:\n\u001b[1;32m     95\u001b[0m     \u001b[38;5;28;01mreturn\u001b[39;00m cls_defs\n",
      "File \u001b[0;32m~/anaconda3/envs/python38/lib/python3.8/site-packages/sdRDM/generator/codegen.py:79\u001b[0m, in \u001b[0;36mgenerate_python_api\u001b[0;34m(path, out, name, url, commit, only_classes, use_formatter)\u001b[0m\n\u001b[1;32m     74\u001b[0m     mermaid_path, metadata_path \u001b[38;5;241m=\u001b[39m generate_schema(\n\u001b[1;32m     75\u001b[0m         \u001b[38;5;28mopen\u001b[39m(file, \u001b[38;5;124m\"\u001b[39m\u001b[38;5;124mr\u001b[39m\u001b[38;5;124m\"\u001b[39m), schema_path, format_type\n\u001b[1;32m     76\u001b[0m     )\n\u001b[1;32m     78\u001b[0m     \u001b[38;5;66;03m# Generate the API\u001b[39;00m\n\u001b[0;32m---> 79\u001b[0m     cls_defs \u001b[38;5;241m=\u001b[39m \u001b[43mwrite_module\u001b[49m\u001b[43m(\u001b[49m\n\u001b[1;32m     80\u001b[0m \u001b[43m        \u001b[49m\u001b[43mschema\u001b[49m\u001b[38;5;241;43m=\u001b[39;49m\u001b[43mmermaid_path\u001b[49m\u001b[43m,\u001b[49m\n\u001b[1;32m     81\u001b[0m \u001b[43m        \u001b[49m\u001b[43mdescriptions_path\u001b[49m\u001b[38;5;241;43m=\u001b[39;49m\u001b[43mmetadata_path\u001b[49m\u001b[43m,\u001b[49m\n\u001b[1;32m     82\u001b[0m \u001b[43m        \u001b[49m\u001b[43mout\u001b[49m\u001b[38;5;241;43m=\u001b[39;49m\u001b[43mcore_path\u001b[49m\u001b[43m,\u001b[49m\n\u001b[1;32m     83\u001b[0m \u001b[43m        \u001b[49m\u001b[43mis_single\u001b[49m\u001b[38;5;241;43m=\u001b[39;49m\u001b[43mis_single\u001b[49m\u001b[43m,\u001b[49m\n\u001b[1;32m     84\u001b[0m \u001b[43m        \u001b[49m\u001b[43murl\u001b[49m\u001b[38;5;241;43m=\u001b[39;49m\u001b[43murl\u001b[49m\u001b[43m,\u001b[49m\n\u001b[1;32m     85\u001b[0m \u001b[43m        \u001b[49m\u001b[43mcommit\u001b[49m\u001b[38;5;241;43m=\u001b[39;49m\u001b[43mcommit\u001b[49m\u001b[43m,\u001b[49m\n\u001b[1;32m     86\u001b[0m \u001b[43m        \u001b[49m\u001b[43monly_classes\u001b[49m\u001b[38;5;241;43m=\u001b[39;49m\u001b[43monly_classes\u001b[49m\u001b[43m,\u001b[49m\n\u001b[1;32m     87\u001b[0m \u001b[43m        \u001b[49m\u001b[43muse_formatter\u001b[49m\u001b[38;5;241;43m=\u001b[39;49m\u001b[43muse_formatter\u001b[49m\u001b[43m,\u001b[49m\n\u001b[1;32m     88\u001b[0m \u001b[43m    \u001b[49m\u001b[43m)\u001b[49m\n\u001b[1;32m     90\u001b[0m \u001b[38;5;28;01mreturn\u001b[39;00m cls_defs\n",
      "File \u001b[0;32m~/anaconda3/envs/python38/lib/python3.8/site-packages/sdRDM/generator/codegen.py:135\u001b[0m, in \u001b[0;36mwrite_module\u001b[0;34m(schema, descriptions_path, out, use_formatter, is_single, commit, url, only_classes)\u001b[0m\n\u001b[1;32m    132\u001b[0m roots \u001b[38;5;241m=\u001b[39m _create_dependency_tree(\u001b[38;5;28mopen\u001b[39m(schema)\u001b[38;5;241m.\u001b[39mread())\n\u001b[1;32m    134\u001b[0m \u001b[38;5;66;03m# (3) Render, write and re-format classes\u001b[39;00m\n\u001b[0;32m--> 135\u001b[0m \u001b[43m_prepare_and_write_classes\u001b[49m\u001b[43m(\u001b[49m\n\u001b[1;32m    136\u001b[0m \u001b[43m    \u001b[49m\u001b[43mroots\u001b[49m\u001b[38;5;241;43m=\u001b[39;49m\u001b[43mroots\u001b[49m\u001b[43m,\u001b[49m\n\u001b[1;32m    137\u001b[0m \u001b[43m    \u001b[49m\u001b[43mclasses\u001b[49m\u001b[38;5;241;43m=\u001b[39;49m\u001b[43mclass_defs\u001b[49m\u001b[43m,\u001b[49m\n\u001b[1;32m    138\u001b[0m \u001b[43m    \u001b[49m\u001b[43mdirpath\u001b[49m\u001b[38;5;241;43m=\u001b[39;49m\u001b[43mpath\u001b[49m\u001b[43m,\u001b[49m\n\u001b[1;32m    139\u001b[0m \u001b[43m    \u001b[49m\u001b[43murl\u001b[49m\u001b[38;5;241;43m=\u001b[39;49m\u001b[43murl\u001b[49m\u001b[43m,\u001b[49m\n\u001b[1;32m    140\u001b[0m \u001b[43m    \u001b[49m\u001b[43mcommit\u001b[49m\u001b[38;5;241;43m=\u001b[39;49m\u001b[43mcommit\u001b[49m\u001b[43m,\u001b[49m\n\u001b[1;32m    141\u001b[0m \u001b[43m    \u001b[49m\u001b[43muse_formatter\u001b[49m\u001b[38;5;241;43m=\u001b[39;49m\u001b[43muse_formatter\u001b[49m\u001b[43m,\u001b[49m\n\u001b[1;32m    142\u001b[0m \u001b[43m\u001b[49m\u001b[43m)\u001b[49m\n\u001b[1;32m    144\u001b[0m \u001b[38;5;66;03m# (5) Finally, write the __init__ file\u001b[39;00m\n\u001b[1;32m    145\u001b[0m init_path \u001b[38;5;241m=\u001b[39m os\u001b[38;5;241m.\u001b[39mpath\u001b[38;5;241m.\u001b[39mjoin(path, \u001b[38;5;124m\"\u001b[39m\u001b[38;5;124m__init__.py\u001b[39m\u001b[38;5;124m\"\u001b[39m)\n",
      "File \u001b[0;32m~/anaconda3/envs/python38/lib/python3.8/site-packages/sdRDM/generator/codegen.py:274\u001b[0m, in \u001b[0;36m_prepare_and_write_classes\u001b[0;34m(roots, classes, dirpath, url, commit, use_formatter)\u001b[0m\n\u001b[1;32m    261\u001b[0m kwargs \u001b[38;5;241m=\u001b[39m {\n\u001b[1;32m    262\u001b[0m     \u001b[38;5;124m\"\u001b[39m\u001b[38;5;124mclasses\u001b[39m\u001b[38;5;124m\"\u001b[39m: classes,\n\u001b[1;32m    263\u001b[0m     \u001b[38;5;124m\"\u001b[39m\u001b[38;5;124mdirpath\u001b[39m\u001b[38;5;124m\"\u001b[39m: dirpath,\n\u001b[0;32m   (...)\u001b[0m\n\u001b[1;32m    266\u001b[0m     \u001b[38;5;124m\"\u001b[39m\u001b[38;5;124muse_formatter\u001b[39m\u001b[38;5;124m\"\u001b[39m: use_formatter,\n\u001b[1;32m    267\u001b[0m }\n\u001b[1;32m    269\u001b[0m \u001b[38;5;66;03m# Parallel(n_jobs=-1)(\u001b[39;00m\n\u001b[1;32m    270\u001b[0m \u001b[38;5;66;03m#     delayed(_write_classes)(cls_obj=cls_obj, **kwargs)\u001b[39;00m\n\u001b[1;32m    271\u001b[0m \u001b[38;5;66;03m#     for cls_obj in classes.values()\u001b[39;00m\n\u001b[1;32m    272\u001b[0m \u001b[38;5;66;03m# )\u001b[39;00m\n\u001b[0;32m--> 274\u001b[0m [_write_classes(cls_obj\u001b[38;5;241m=\u001b[39mcls_obj, \u001b[38;5;241m*\u001b[39m\u001b[38;5;241m*\u001b[39mkwargs) \u001b[38;5;28;01mfor\u001b[39;00m cls_obj \u001b[38;5;129;01min\u001b[39;00m classes\u001b[38;5;241m.\u001b[39mvalues()]\n",
      "File \u001b[0;32m~/anaconda3/envs/python38/lib/python3.8/site-packages/sdRDM/generator/codegen.py:274\u001b[0m, in \u001b[0;36m<listcomp>\u001b[0;34m(.0)\u001b[0m\n\u001b[1;32m    261\u001b[0m kwargs \u001b[38;5;241m=\u001b[39m {\n\u001b[1;32m    262\u001b[0m     \u001b[38;5;124m\"\u001b[39m\u001b[38;5;124mclasses\u001b[39m\u001b[38;5;124m\"\u001b[39m: classes,\n\u001b[1;32m    263\u001b[0m     \u001b[38;5;124m\"\u001b[39m\u001b[38;5;124mdirpath\u001b[39m\u001b[38;5;124m\"\u001b[39m: dirpath,\n\u001b[0;32m   (...)\u001b[0m\n\u001b[1;32m    266\u001b[0m     \u001b[38;5;124m\"\u001b[39m\u001b[38;5;124muse_formatter\u001b[39m\u001b[38;5;124m\"\u001b[39m: use_formatter,\n\u001b[1;32m    267\u001b[0m }\n\u001b[1;32m    269\u001b[0m \u001b[38;5;66;03m# Parallel(n_jobs=-1)(\u001b[39;00m\n\u001b[1;32m    270\u001b[0m \u001b[38;5;66;03m#     delayed(_write_classes)(cls_obj=cls_obj, **kwargs)\u001b[39;00m\n\u001b[1;32m    271\u001b[0m \u001b[38;5;66;03m#     for cls_obj in classes.values()\u001b[39;00m\n\u001b[1;32m    272\u001b[0m \u001b[38;5;66;03m# )\u001b[39;00m\n\u001b[0;32m--> 274\u001b[0m [\u001b[43m_write_classes\u001b[49m\u001b[43m(\u001b[49m\u001b[43mcls_obj\u001b[49m\u001b[38;5;241;43m=\u001b[39;49m\u001b[43mcls_obj\u001b[49m\u001b[43m,\u001b[49m\u001b[43m \u001b[49m\u001b[38;5;241;43m*\u001b[39;49m\u001b[38;5;241;43m*\u001b[39;49m\u001b[43mkwargs\u001b[49m\u001b[43m)\u001b[49m \u001b[38;5;28;01mfor\u001b[39;00m cls_obj \u001b[38;5;129;01min\u001b[39;00m classes\u001b[38;5;241m.\u001b[39mvalues()]\n",
      "File \u001b[0;32m~/anaconda3/envs/python38/lib/python3.8/site-packages/sdRDM/generator/codegen.py:319\u001b[0m, in \u001b[0;36m_write_classes\u001b[0;34m(cls_obj, classes, dirpath, url, commit, use_formatter)\u001b[0m\n\u001b[1;32m    316\u001b[0m     cls_obj\u001b[38;5;241m.\u001b[39mimports\u001b[38;5;241m.\u001b[39madd(\u001b[38;5;124mf\u001b[39m\u001b[38;5;124m\"\u001b[39m\u001b[38;5;124mfrom .\u001b[39m\u001b[38;5;132;01m{\u001b[39;00msub_class\u001b[38;5;241m.\u001b[39mfname\u001b[38;5;132;01m}\u001b[39;00m\u001b[38;5;124m import \u001b[39m\u001b[38;5;132;01m{\u001b[39;00msub_class\u001b[38;5;241m.\u001b[39mname\u001b[38;5;132;01m}\u001b[39;00m\u001b[38;5;124m\"\u001b[39m)\n\u001b[1;32m    318\u001b[0m \u001b[38;5;66;03m# Finally, render the given class\u001b[39;00m\n\u001b[0;32m--> 319\u001b[0m \u001b[43m_render_class\u001b[49m\u001b[43m(\u001b[49m\n\u001b[1;32m    320\u001b[0m \u001b[43m    \u001b[49m\u001b[43mcls_obj\u001b[49m\u001b[43m,\u001b[49m\n\u001b[1;32m    321\u001b[0m \u001b[43m    \u001b[49m\u001b[43mdirpath\u001b[49m\u001b[43m,\u001b[49m\n\u001b[1;32m    322\u001b[0m \u001b[43m    \u001b[49m\u001b[43mclasses\u001b[49m\u001b[38;5;241;43m=\u001b[39;49m\u001b[43mclasses\u001b[49m\u001b[43m,\u001b[49m\n\u001b[1;32m    323\u001b[0m \u001b[43m    \u001b[49m\u001b[43murl\u001b[49m\u001b[38;5;241;43m=\u001b[39;49m\u001b[43murl\u001b[49m\u001b[43m,\u001b[49m\n\u001b[1;32m    324\u001b[0m \u001b[43m    \u001b[49m\u001b[43mcommit\u001b[49m\u001b[38;5;241;43m=\u001b[39;49m\u001b[43mcommit\u001b[49m\u001b[43m,\u001b[49m\n\u001b[1;32m    325\u001b[0m \u001b[43m    \u001b[49m\u001b[43muse_formatter\u001b[49m\u001b[38;5;241;43m=\u001b[39;49m\u001b[43muse_formatter\u001b[49m\u001b[43m,\u001b[49m\n\u001b[1;32m    326\u001b[0m \u001b[43m\u001b[49m\u001b[43m)\u001b[49m\n",
      "File \u001b[0;32m~/anaconda3/envs/python38/lib/python3.8/site-packages/sdRDM/generator/codegen.py:341\u001b[0m, in \u001b[0;36m_render_class\u001b[0;34m(cls_obj, dirpath, classes, url, commit, use_formatter)\u001b[0m\n\u001b[1;32m    338\u001b[0m     \u001b[38;5;28;01mraise\u001b[39;00m \u001b[38;5;167;01mTypeError\u001b[39;00m(\u001b[38;5;124mf\u001b[39m\u001b[38;5;124m\"\u001b[39m\u001b[38;5;124mClass object of type \u001b[39m\u001b[38;5;124m'\u001b[39m\u001b[38;5;132;01m{\u001b[39;00m\u001b[38;5;28mtype\u001b[39m(cls_obj)\u001b[38;5;132;01m}\u001b[39;00m\u001b[38;5;124m'\u001b[39m\u001b[38;5;124m is not supported.\u001b[39m\u001b[38;5;124m\"\u001b[39m)\n\u001b[1;32m    340\u001b[0m \u001b[38;5;28;01mif\u001b[39;00m os\u001b[38;5;241m.\u001b[39mpath\u001b[38;5;241m.\u001b[39mexists(path):\n\u001b[0;32m--> 341\u001b[0m     rendered_class \u001b[38;5;241m=\u001b[39m \u001b[43mpreserve_custom_functions\u001b[49m\u001b[43m(\u001b[49m\u001b[43mrendered_class\u001b[49m\u001b[43m,\u001b[49m\u001b[43m \u001b[49m\u001b[43mpath\u001b[49m\u001b[43m)\u001b[49m\n\u001b[1;32m    343\u001b[0m \u001b[38;5;28;01mwith\u001b[39;00m \u001b[38;5;28mopen\u001b[39m(path, \u001b[38;5;124m\"\u001b[39m\u001b[38;5;124mw\u001b[39m\u001b[38;5;124m\"\u001b[39m) \u001b[38;5;28;01mas\u001b[39;00m file:\n\u001b[1;32m    344\u001b[0m     file\u001b[38;5;241m.\u001b[39mwrite(rendered_class)\n",
      "File \u001b[0;32m~/anaconda3/envs/python38/lib/python3.8/site-packages/sdRDM/generator/utils.py:44\u001b[0m, in \u001b[0;36mpreserve_custom_functions\u001b[0;34m(rendered_class, path)\u001b[0m\n\u001b[1;32m     41\u001b[0m previous_module \u001b[38;5;241m=\u001b[39m ast\u001b[38;5;241m.\u001b[39mparse(\u001b[38;5;28mopen\u001b[39m(path)\u001b[38;5;241m.\u001b[39mread())\n\u001b[1;32m     43\u001b[0m \u001b[38;5;66;03m# Format data model class\u001b[39;00m\n\u001b[0;32m---> 44\u001b[0m \u001b[43m_format_classes\u001b[49m\u001b[43m(\u001b[49m\u001b[43mnew_module\u001b[49m\u001b[43m,\u001b[49m\u001b[43m \u001b[49m\u001b[43mprevious_module\u001b[49m\u001b[43m)\u001b[49m\n\u001b[1;32m     46\u001b[0m \u001b[38;5;66;03m# Format and merge imports\u001b[39;00m\n\u001b[1;32m     47\u001b[0m _format_imports(new_module, previous_module)\n",
      "File \u001b[0;32m~/anaconda3/envs/python38/lib/python3.8/site-packages/sdRDM/generator/utils.py:114\u001b[0m, in \u001b[0;36m_format_classes\u001b[0;34m(new_module, previous_module)\u001b[0m\n\u001b[1;32m    112\u001b[0m     \u001b[38;5;28;01mpass\u001b[39;00m\n\u001b[1;32m    113\u001b[0m \u001b[38;5;28;01melif\u001b[39;00m element\u001b[38;5;241m.\u001b[39mname \u001b[38;5;129;01min\u001b[39;00m new_methods:\n\u001b[0;32m--> 114\u001b[0m     \u001b[38;5;28;01mif\u001b[39;00m \u001b[43mast\u001b[49m\u001b[38;5;241;43m.\u001b[39;49m\u001b[43munparse\u001b[49m(element) \u001b[38;5;241m!=\u001b[39m ast\u001b[38;5;241m.\u001b[39munparse(new_methods[element\u001b[38;5;241m.\u001b[39mname]):\n\u001b[1;32m    115\u001b[0m         element \u001b[38;5;241m=\u001b[39m new_methods[element\u001b[38;5;241m.\u001b[39mname]\n\u001b[1;32m    117\u001b[0m     \u001b[38;5;28;01mdel\u001b[39;00m new_methods[element\u001b[38;5;241m.\u001b[39mname]\n",
      "\u001b[0;31mAttributeError\u001b[0m: module 'ast' has no attribute 'unparse'"
     ]
    }
   ],
   "source": [
    "data_template_url = \"https://github.com/C-Kessler/sdrdm-flowchem-B2.git\"\n",
    "model = DataModel.from_git(\n",
    "    url= data_template_url,  \n",
    ")\n",
    "model"
   ]
  },
  {
   "cell_type": "markdown",
   "id": "b0ee353c-800c-4ed5-9abd-7048780f1cea",
   "metadata": {},
   "source": [
    "## Get an impression of what the model looks like\n",
    "The scheme can also be viewed at https://github.com/C-Kessler/sdrdm-flowchem-B2/blob/main/pyDataset/schemes/Dataset.md"
   ]
  },
  {
   "cell_type": "code",
   "execution_count": null,
   "id": "03c90207-bc79-4e29-a675-2e5f6dbd43fa",
   "metadata": {},
   "outputs": [],
   "source": [
    "Root = model.FlowChemistryProtocol\n",
    "Root.visualize_tree()"
   ]
  },
  {
   "cell_type": "markdown",
   "id": "d8c6030c-eb06-4e53-8096-77bfa23d5af0",
   "metadata": {},
   "source": [
    "## Initialize a Dataset for the specific flow chemistry process"
   ]
  },
  {
   "cell_type": "code",
   "execution_count": null,
   "id": "49f473f9-56fd-49aa-8e19-431349caf479",
   "metadata": {},
   "outputs": [],
   "source": [
    "dataset = Root(title=\"Flowchem Scheme 1\", description=\"An Example process from Hone C. A., Kappe C. O. Towards the Standardization of Flow Chemistry Protocols for Organic Reactions, scheme1\", subject = 'flowchem')\n",
    "dataset"
   ]
  },
  {
   "cell_type": "markdown",
   "id": "4eb9236b-b485-4ebe-9ec7-92751824a6df",
   "metadata": {},
   "source": [
    "## develop flow chemistry related readers to get data\n",
    "- what is necessary here?"
   ]
  },
  {
   "cell_type": "markdown",
   "id": "e7bf82d3-bd60-423d-bcb3-bfc03fe3f554",
   "metadata": {},
   "source": [
    "## Enter Data"
   ]
  },
  {
   "cell_type": "code",
   "execution_count": null,
   "id": "3eadd161-ed55-4700-971e-cc9ac54c878e",
   "metadata": {},
   "outputs": [],
   "source": [
    "# Authors\n",
    "dataset.add_to_authors(name=\"Tallarek, U.\", affiliation=\"University of Marburg\")\n",
    "dataset.add_to_authors(name=\"Böth, J.-A.\", affiliation=\"University of Marburg\")\n",
    "\n",
    "# Modules\n",
    "# ReactionModules\n",
    "dataset.add_to_reaction_modules(id='1', key = 'Substrate solutions', manufacturer = 'Al')\n",
    "dataset.add_to_reaction_modules(id='4', key = 'Binary Pump for reaction control', manufacturer = 'Agilent', series = '1290 Infinity II Series', type_number='G7120A')\n",
    "dataset.add_to_reaction_modules(id='5', key = '2-position/6-port-valve', manufacturer = 'Agilent', series = '1290 Infinity II Series', type_number = 'G1170A' )\n",
    "dataset.add_to_reaction_modules(id='9', key = 'Thermostatted HPLC column compartment with the microreactor', manufacturer = 'Agilent', series = '1290 Infinity II Series', type_number = 'G7116B')\n",
    "dataset.add_to_reaction_modules(id='10', key = 'Inline DAD', manufacturer = 'Agilent', series = '1290 Infinity II Series', type_number = 'G7115A')\n",
    "#AnalysisModules\n",
    "dataset.add_to_analysis_modules(id='2', key = 'Autosampler', manufacturer = 'Agilent', series = '1290 Infinity II Series', type_number = 'G7129B')\n",
    "dataset.add_to_analysis_modules(id='3', key = 'Quaternary pump for analytics', manufacturer = 'Agilent', series = '1290 Infinity II Series', type_number = 'G7104A')\n",
    "dataset.add_to_analysis_modules(id='6', key = 'Eluents', manufacturer = '')\n",
    "dataset.add_to_analysis_modules(id='7', key = 'Online DAD', manufacturer = 'Agilent', series = '1290 Infinity II Series', type_number = 'G7115A')\n",
    "dataset.add_to_analysis_modules(id='8', key = 'Thermostatted HPLC column compartment with C-8-column', manufacturer = 'Agilent', series = '1290 Infinity II Series', type_number = 'G7116B')\n",
    "dataset.add_to_analysis_modules(id='11', key = 'Fraction collector', manufacturer = 'Agilent', series = '1290 Infinity II Series', type_number = 'G1364E')\n",
    "dataset.add_to_analysis_modules(id='12', key = 'ESI-MS', manufacturer = 'Agilent', series = '1290 Infinity II Series', type_number = 'G6150B')\n",
    "\n",
    "# Response Parameters\n",
    "# dataset.add_to_responseparameters(\n",
    "\n",
    "print(dataset)"
   ]
  },
  {
   "cell_type": "markdown",
   "id": "7d7f5ffd-0277-4a4e-8780-67644b0f8aaf",
   "metadata": {},
   "source": [
    "## Export the dataset\n",
    "- json\n",
    "- todo DaRUS"
   ]
  },
  {
   "cell_type": "code",
   "execution_count": null,
   "id": "e3a2ac46-96f4-4dca-b2ff-27c0097c09a3",
   "metadata": {},
   "outputs": [],
   "source": [
    "with open(\"./output/my_dataset.json\", \"w\") as f:\n",
    "    f.write(dataset.json())"
   ]
  },
  {
   "cell_type": "code",
   "execution_count": null,
   "id": "ac11fe47-e953-4610-9efd-fdb252707893",
   "metadata": {},
   "outputs": [],
   "source": []
  }
 ],
 "metadata": {
  "kernelspec": {
   "display_name": "Python 3",
   "language": "python",
   "name": "python3"
  },
  "language_info": {
   "codemirror_mode": {
    "name": "ipython",
    "version": 3
   },
   "file_extension": ".py",
   "mimetype": "text/x-python",
   "name": "python",
   "nbconvert_exporter": "python",
   "pygments_lexer": "ipython3",
   "version": "3.8.13"
  }
 },
 "nbformat": 4,
 "nbformat_minor": 5
}

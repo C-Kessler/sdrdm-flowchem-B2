{
 "cells": [
  {
   "cell_type": "code",
   "execution_count": 1,
   "id": "a3986b8e-414a-4191-8f07-1bb77c23080c",
   "metadata": {},
   "outputs": [],
   "source": [
    "from sdRDM import DataModel, Field\n",
    "from typing import *"
   ]
  },
  {
   "cell_type": "markdown",
   "id": "cdfc7573-f7c0-4886-b94b-5b6d435b8d55",
   "metadata": {},
   "source": [
    "## Example Repro software-driven-rdm\n",
    "https://github.com/JR-1991/software-driven-rdm/blob/master/README.md"
   ]
  },
  {
   "cell_type": "code",
   "execution_count": 2,
   "id": "cef2c0bf-9b0e-4aa7-9c64-814e076f5f29",
   "metadata": {},
   "outputs": [],
   "source": [
    "class Person(DataModel):\n",
    "\n",
    "    name: str = Field(\n",
    "        ...,\n",
    "        description=\"Name of a person\"\n",
    "    )\n",
    "    age: int = Field(\n",
    "        ...,\n",
    "        description=\"Age of a person\"\n",
    "    )\n",
    "\n",
    "class Group(DataModel):\n",
    "\n",
    "    name: str = Field(\n",
    "        ...,\n",
    "        description=\"Name of this group\"\n",
    "    )\n",
    "\n",
    "    persons: List[Person] = Field(\n",
    "        description=\"Persons from this group\",\n",
    "        default_factory=list\n",
    "    )"
   ]
  },
  {
   "cell_type": "code",
   "execution_count": 3,
   "id": "f10168a1-4c62-4894-a597-2e9862adb091",
   "metadata": {},
   "outputs": [
    {
     "name": "stdout",
     "output_type": "stream",
     "text": [
      "name: sdRDM Group\n",
      "persons:\n",
      "  - name: Max\n",
      "    age: 43\n",
      "  - name: Hannah\n",
      "    age: 38\n",
      "__source__:\n",
      "  root: Group\n",
      "\n"
     ]
    },
    {
     "name": "stderr",
     "output_type": "stream",
     "text": [
      "/usr/ITT/kessler/anaconda3/envs/python38/lib/python3.8/site-packages/sdRDM/base/datamodel.py:123: UserWarning: No 'URL' and 'Commit' specified. This model might not be re-usable.\n",
      "  warnings.warn(\n"
     ]
    }
   ],
   "source": [
    "# Apply data model\n",
    "person1 = Person(name=\"Max\", age=43)\n",
    "person2 = Person(name=\"Hannah\", age=38)\n",
    "\n",
    "group = Group(\n",
    "    name=\"sdRDM Group\",\n",
    "    persons=[person1, person2]\n",
    ")\n",
    "\n",
    "print(group.yaml())"
   ]
  },
  {
   "cell_type": "markdown",
   "id": "a534f581-a778-444d-a67c-f71c82178193",
   "metadata": {},
   "source": [
    "## Example Repro sdrdm-template\n",
    "https://github.com/JR-1991/sdrdm-template"
   ]
  },
  {
   "cell_type": "code",
   "execution_count": 4,
   "id": "1d6277b2-bead-470f-a474-76ee439b504c",
   "metadata": {},
   "outputs": [
    {
     "ename": "TypeError",
     "evalue": "from_git() got an unexpected keyword argument 'import_modules'",
     "output_type": "error",
     "traceback": [
      "\u001b[0;31m---------------------------------------------------------------------------\u001b[0m",
      "\u001b[0;31mTypeError\u001b[0m                                 Traceback (most recent call last)",
      "Cell \u001b[0;32mIn [4], line 1\u001b[0m\n\u001b[0;32m----> 1\u001b[0m Root, Author, Parameter \u001b[38;5;241m=\u001b[39m \u001b[43mDataModel\u001b[49m\u001b[38;5;241;43m.\u001b[39;49m\u001b[43mfrom_git\u001b[49m\u001b[43m(\u001b[49m\n\u001b[1;32m      2\u001b[0m \u001b[43m    \u001b[49m\u001b[43murl\u001b[49m\u001b[38;5;241;43m=\u001b[39;49m\u001b[38;5;124;43m\"\u001b[39;49m\u001b[38;5;124;43mhttps://github.com/JR-1991/sdrdm-template.git\u001b[39;49m\u001b[38;5;124;43m\"\u001b[39;49m\u001b[43m,\u001b[49m\n\u001b[1;32m      3\u001b[0m \u001b[43m    \u001b[49m\u001b[43mimport_modules\u001b[49m\u001b[43m \u001b[49m\u001b[38;5;241;43m=\u001b[39;49m\u001b[43m \u001b[49m\u001b[43m[\u001b[49m\u001b[38;5;124;43m\"\u001b[39;49m\u001b[38;5;124;43mAuthor\u001b[39;49m\u001b[38;5;124;43m\"\u001b[39;49m\u001b[43m,\u001b[49m\u001b[43m \u001b[49m\u001b[38;5;124;43m\"\u001b[39;49m\u001b[38;5;124;43mParameter\u001b[39;49m\u001b[38;5;124;43m\"\u001b[39;49m\u001b[43m]\u001b[49m\n\u001b[1;32m      4\u001b[0m \u001b[43m)\u001b[49m\n\u001b[1;32m      6\u001b[0m \u001b[38;5;66;03m# Visualize the data model\u001b[39;00m\n\u001b[1;32m      7\u001b[0m Root\u001b[38;5;241m.\u001b[39mvisualize_tree()\n",
      "\u001b[0;31mTypeError\u001b[0m: from_git() got an unexpected keyword argument 'import_modules'"
     ]
    }
   ],
   "source": [
    "Root, Author, Parameter = DataModel.from_git(\n",
    "    url=\"https://github.com/JR-1991/sdrdm-template.git\",\n",
    "    import_modules = [\"Author\", \"Parameter\"]\n",
    ")\n",
    "\n",
    "# Visualize the data model\n",
    "Root.visualize_tree()\n",
    "\n",
    "# Enter your data\n",
    "dataset = Root(title=\"Some Title\", description=\"Some Description\")\n",
    "dataset.add_to_authors(name=\"Jan Range\", affiliation=\"SimTech\")\n",
    "dataset.add_to_parameters(key=\"Param\", value=10.0)\n",
    "\n",
    "# Inspect your dataset\n",
    "print(dataset.yaml())\n",
    "\n",
    "# Option: Link your dataset to an option --> Dataverse\n",
    "dataset.to_dataverse()\n",
    "\n",
    "# Option: Export your dataset to another format\n",
    "with open(\"my_dataset.json\", \"w\") as f:\n",
    "    f.write(dataset.json())\n",
    "\n",
    "# Re-opening your dataset using sdRDM will cause the library\n",
    "# to re-build the software state in which the dataset was created"
   ]
  },
  {
   "cell_type": "code",
   "execution_count": null,
   "id": "d6b33b49-1203-472b-a472-619e06d89edf",
   "metadata": {},
   "outputs": [],
   "source": []
  }
 ],
 "metadata": {
  "kernelspec": {
   "display_name": "Python 3",
   "language": "python",
   "name": "python3"
  },
  "language_info": {
   "codemirror_mode": {
    "name": "ipython",
    "version": 3
   },
   "file_extension": ".py",
   "mimetype": "text/x-python",
   "name": "python",
   "nbconvert_exporter": "python",
   "pygments_lexer": "ipython3",
   "version": "3.8.13"
  }
 },
 "nbformat": 4,
 "nbformat_minor": 5
}
